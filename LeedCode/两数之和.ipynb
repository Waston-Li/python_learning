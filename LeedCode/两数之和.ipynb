{
 "cells": [
  {
   "cell_type": "markdown",
   "metadata": {},
   "source": [
    "# 两数之和"
   ]
  },
  {
   "cell_type": "markdown",
   "metadata": {},
   "source": [
    "给定一个整数数组 nums 和一个目标值 target，请你在该数组中找出和为目标值的那 两个 整数，并返回他们的数组下标。\n",
    "\n",
    "你可以假设每种输入只会对应一个答案。但是，数组中同一个元素不能使用两遍。\n",
    "链接：https://leetcode-cn.com/problems/two-sum\n",
    "    \n",
    "示例:\n",
    "给定 nums = [2, 7, 11, 15], target = 9\n",
    "\n",
    "因为 nums[0] + nums[1] = 2 + 7 = 9\n",
    "所以返回 [0, 1]\n",
    "\n",
    "来源：力扣（LeetCode）\n",
    "链接：https://leetcode-cn.com/problems/two-sum\n",
    "著作权归领扣网络所有。商业转载请联系官方授权，非商业转载请注明出处。"
   ]
  },
  {
   "cell_type": "markdown",
   "metadata": {},
   "source": [
    "法一：暴力枚举\n",
    "枚举数组中的每一个数 x，寻找数组中是否存在 target - x。\n",
    "\n",
    "当我们使用遍历整个数组的方式寻找 target - x 时，需要注意到每一个位于 x 之前的元素都已经和 x 匹配过，因此不需要再进行匹配。而每一个元素不能被使用两次，所以我们只需要在 x 后面的元素中寻找"
   ]
  },
  {
   "cell_type": "code",
   "execution_count": 6,
   "metadata": {},
   "outputs": [],
   "source": [
    "from typing import List\n",
    "class Solution1:\n",
    "    def twoSum(self, nums: List[int], target: int) -> List[int]:\n",
    "        n = len(nums)\n",
    "        for i in range(n):\n",
    "            for j in range(i + 1, n):\n",
    "                if nums[i] + nums[j] == target:\n",
    "                    return [i, j]    #注意写法\n",
    "        return []\n",
    "    \n",
    "    #改进1\n",
    "    \n",
    "    #1: where value is the input parameter. Can we change our array somehow so that this search becomes faster?\n",
    "#     def twoSum1(self,nums,target):\n",
    "#         n = len(nums)\n",
    "#         for x in range(n):\n",
    "#             a = target - nums[x] \n",
    "# \t\t\tif a in nums: # 判断a有没有在nums数组里 （ 注意这个写法！）\n",
    "# \t\t\t\ty = nums.index(a) # 有的话，那么用index获取到该数字的下标\n",
    "# \t\t\t\tif x == y: \n",
    "# \t\t\t\t\tcontinue # 同样的数字不能重复用，所以这里如果是一样的数字，那么就不满足条件，跳过\n",
    "# \t\t\t\telse: # 否则就返回结果\n",
    "# \t\t\t\t\treturn x,y \n",
    "# \t\t\t\t\tbreak\n",
    "# \t\t\telse: \n",
    "# \t\t\t\tcontinue # 上面的条件都不满足就跳过，进行下一次循环\n",
    "     \n",
    "    #问题:超时！！！"
   ]
  },
  {
   "cell_type": "markdown",
   "metadata": {},
   "source": [
    "改进：怎么变快？\n",
    "\n",
    "1: where value is the input parameter. Can we change our array somehow so that this search becomes faster?\n",
    "2: The second train of thought is, without changing the array, can we use additional space somehow? Like maybe a hash map to speed up the search?"
   ]
  },
  {
   "cell_type": "markdown",
   "metadata": {},
   "source": [
    "法二：哈希表\n",
    "思路及算法\n",
    "\n",
    "注意到方法一的时间复杂度较高的原因是 “寻找 target - x 的时间复杂度过高！”,\n",
    "因此，我们需要一种更优秀的方法，能够 “快速寻找数组中是否存在目标元素。如果存在，我们需要找出它的索引。”\n",
    "\n",
    "使用哈希表，可以将寻找 target - x 的时间复杂度降低到从 O(N) 降低到O(1)。\n",
    "\n",
    "这样我们创建一个哈希表，对于每一个 x，我们首先查询哈希表中是否存在 target - x，然后将 x 插入到哈希表中，即可保证不会让 x 和自己匹配。\n"
   ]
  },
  {
   "cell_type": "code",
   "execution_count": 9,
   "metadata": {},
   "outputs": [],
   "source": [
    "from typing import List\n",
    "class Solution:\n",
    "    def twoSum(self, nums: List[int], target: int) -> List[int]:\n",
    "        hashtable=dict()\n",
    "        for i,num in enumerate(nums):\n",
    "            if target-num in hashtable:        #key 为列表中的值nums[i]， value 为列表索引i\n",
    "                return [hashtable[target-num],i]\n",
    "            hashtable[num]=i\n",
    "        return []"
   ]
  },
  {
   "cell_type": "markdown",
   "metadata": {},
   "source": [
    "哈希表:(字典形式)\n",
    "\n",
    "\n",
    "|key:|2|7|11|5|\n",
    "|-|-|-|-|-|\n",
    "|value：|0|1|2|3|"
   ]
  }
 ],
 "metadata": {
  "kernelspec": {
   "display_name": "Python 3",
   "language": "python",
   "name": "python3"
  },
  "language_info": {
   "codemirror_mode": {
    "name": "ipython",
    "version": 3
   },
   "file_extension": ".py",
   "mimetype": "text/x-python",
   "name": "python",
   "nbconvert_exporter": "python",
   "pygments_lexer": "ipython3",
   "version": "3.7.0"
  }
 },
 "nbformat": 4,
 "nbformat_minor": 2
}

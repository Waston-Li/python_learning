{
 "cells": [
  {
   "cell_type": "markdown",
   "metadata": {},
   "source": [
    "给出两个 非空 的链表用来表示两个非负的整数。其中，它们各自的位数是按照 逆序 的方式存储的，并且它们的每个节点只能存储 一位 数字。\n",
    "\n",
    "如果，我们将这两个数相加起来，则会返回一个新的链表来表示它们的和。\n",
    "\n",
    "您可以假设除了数字 0 之外，这两个数都不会以 0 开头。\n",
    "\n",
    "链接：https://leetcode-cn.com/problems/add-two-numbers\n",
    "    \n",
    "示例：\n",
    "\n",
    "输入：(2 -> 4 -> 3) + (5 -> 6 -> 4)\n",
    "输出：7 -> 0 -> 8\n",
    "原因：342 + 465 = 807\n"
   ]
  },
  {
   "cell_type": "markdown",
   "metadata": {},
   "source": [
    "# 思路"
   ]
  },
  {
   "cell_type": "markdown",
   "metadata": {},
   "source": [
    "因为两个数字相加会产生进位，所以使用i来保存进位值。\n",
    "则 当前位 的值为(l1.val + l2.val + i) % 10\n",
    "则 进位值 为(l1.val + l2.val + i) / 10\n",
    "\n",
    "如果两个链表的 长度不同 ，则可以认为长度短的链表的后面有若干个 0 。\n",
    "\n",
    "此外，如果链表遍历结束后，有 i>0，还需要在答案链表的后面附加一个节点,值为i\n",
    "\n"
   ]
  },
  {
   "cell_type": "code",
   "execution_count": 3,
   "metadata": {},
   "outputs": [],
   "source": [
    "# Definition for singly-linked list. python链表定义\n",
    "\n",
    "class ListNode:\n",
    "    def __init__(self,x):\n",
    "        self.val=x\n",
    "        self.next=None\n",
    "\n",
    "class Solution:\n",
    "    def addTwoNumbers(self, l1:ListNode ,l2:ListNode) -> ListNode: \n",
    "        \n",
    "        # 创建一个结点值为 None 的头结点, res 和 p 指向头结点, res 用来最后返回, p 用来遍历(表示相同内存变量)\n",
    "        res=p=ListNode(None)  \n",
    "        i=0 #进位值\n",
    "        \n",
    "        while l1 or l2 or i:\n",
    "            i+=(l1.val if l1 else 0)+ (l2.val if l2 else 0) # 如果 l1 或 l2 存在, 则取l1的值 + l2的值 + i(i初始为0, 如果下面有进位1, 下次加上)\n",
    "\n",
    "            p.next=ListNode(i%10)                 # p.next 指向新链表, 用来创建一个新的链表\n",
    "            p=p.next \n",
    "            i//=10                                # 注意：有进位情况则取模, eg. s = 18, 18 // 10 = 1\n",
    "            l1=l1.next if l1 else None\n",
    "            l2=l2.next if l2 else None\n",
    "        \n",
    "        return res.next   # 返回 res 的下一个节点, 因为 dummy 指向的是空的头结点, 下一个节点才是新建链表的后序节点\n",
    "            \n",
    "        "
   ]
  },
  {
   "cell_type": "markdown",
   "metadata": {},
   "source": [
    "递归写法："
   ]
  },
  {
   "cell_type": "code",
   "execution_count": 5,
   "metadata": {},
   "outputs": [],
   "source": [
    "class Solution2:\n",
    "    def addTwoNumbers(self, l1: ListNode, l2: ListNode) -> ListNode:\n",
    "        def dfs(L1, L2, i):\n",
    "            if not L1 and not L2 and not i: return None\n",
    "\n",
    "            s = (L1.val if L1 else 0) + (L2.val if L2 else 0) + i\n",
    "\n",
    "            p = ListNode(s % 10)\n",
    "\n",
    "            p.next = dfs(L1.next if L1 else 0, L2.next if L2 else 0, s // 10)\n",
    "\n",
    "            return p\n",
    "\n",
    "        return dfs(l1, l2, 0)"
   ]
  }
 ],
 "metadata": {
  "kernelspec": {
   "display_name": "Python 3",
   "language": "python",
   "name": "python3"
  },
  "language_info": {
   "codemirror_mode": {
    "name": "ipython",
    "version": 3
   },
   "file_extension": ".py",
   "mimetype": "text/x-python",
   "name": "python",
   "nbconvert_exporter": "python",
   "pygments_lexer": "ipython3",
   "version": "3.7.7"
  }
 },
 "nbformat": 4,
 "nbformat_minor": 4
}

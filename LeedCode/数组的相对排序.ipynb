{
 "cells": [
  {
   "cell_type": "markdown",
   "metadata": {},
   "source": [
    "给你两个数组，arr1 和 arr2，\n",
    "\n",
    "arr2 中的元素各不相同\n",
    "arr2 中的每个元素都出现在 arr1 中\n",
    "对 arr1 中的元素进行排序，使 arr1 中项的相对顺序和 arr2 中的相对顺序相同。未在 arr2 中出现过的元素需要按照升序放在 arr1 的末尾。\n",
    "\n",
    "示例：\n",
    "输入：arr1 = [2,3,1,3,2,4,6,7,9,2,19], arr2 = [2,1,4,3,9,6]\n",
    "输出：[2,2,2,1,4,3,3,9,6,7,19]\n",
    "\n",
    "链接：https://leetcode-cn.com/problems/relative-sort-array"
   ]
  },
  {
   "cell_type": "code",
   "execution_count": null,
   "metadata": {},
   "outputs": [],
   "source": [
    "参数定义 \n",
    "cnt：计数数组，统计[0,……+1]中每个数出现的频次\n",
    "res：结果数组\n",
    "\n",
    "思路：桶排序\n",
    "由于arr1和arr2数组元素所在区间为[0,1000]，可以申请一个大小为1001的计数数组cnt，来统计每个元素出现的频次\n",
    "遍历数组arr2，依次获取每个元素num在计数数组cnt中的频次count，将count个num追加到res数组中，同时将cnt中num的频次更新为0，便于分离出arr1中不存于arr2中的元素\n",
    "最后，计数数组cnt中频次大于0的即为arr1和arr2的差集，依次追加到res数组即可\n"
   ]
  },
  {
   "cell_type": "code",
   "execution_count": 28,
   "metadata": {},
   "outputs": [],
   "source": [
    "from typing import List\n",
    "class Solution:\n",
    "    def relativeSortArray(self, arr1: List[int], arr2: List[int]) -> List[int]:\n",
    "        cm=max(arr1)    #计数数组长度取决于arr1数组中的最大值\n",
    "        cnt=[0]*(cm+1) #注意数组下标问题\n",
    "        res=[]\n",
    "        \n",
    "        #统计arr1中每个数的频次\n",
    "        for i in arr1:\n",
    "            cnt[i]+=1\n",
    "        \n",
    "        # 按照arr2的顺序以及出现频次将每个数放入res中\n",
    "        for i in arr2:\n",
    "            res.extend([i]*cnt[i])\n",
    "            cnt[i]=0\n",
    "            \n",
    "        # 将桶中剩余元素按顺序和频次放入res数组后面\n",
    "        for i in range(cm+1):\n",
    "            if(cnt[i]>0):\n",
    "                res.extend([i]*cnt[i])\n",
    "        return(res)\n",
    "            "
   ]
  },
  {
   "cell_type": "code",
   "execution_count": 30,
   "metadata": {},
   "outputs": [
    {
     "name": "stdout",
     "output_type": "stream",
     "text": [
      "[2, 2, 2, 1, 4, 3, 3, 9, 6, 7, 19]\n"
     ]
    }
   ],
   "source": [
    "arr1 = [2,3,1,3,2,4,6,7,9,2,19]\n",
    "arr2 = [2,1,4,3,9,6]\n",
    "result=Solution().relativeSortArray(arr1,arr2)\n",
    "print(result)"
   ]
  },
  {
   "cell_type": "code",
   "execution_count": null,
   "metadata": {},
   "outputs": [],
   "source": [
    "解题思路2:字典映射+sort\n",
    "越在前面（索引越小）权重越大，更何况没有重复数字，\n",
    "由于sort默认升序，即要逆置排序，因此前面有权重的就按权重来，没有权重就反着来（因为照顾前面的权重导致降序排列，因而没权重如果不倒过来，就会出现末尾也是降序，变成负数即可）\n",
    "\n"
   ]
  }
 ],
 "metadata": {
  "kernelspec": {
   "display_name": "Python 3",
   "language": "python",
   "name": "python3"
  },
  "language_info": {
   "codemirror_mode": {
    "name": "ipython",
    "version": 3
   },
   "file_extension": ".py",
   "mimetype": "text/x-python",
   "name": "python",
   "nbconvert_exporter": "python",
   "pygments_lexer": "ipython3",
   "version": "3.7.0"
  }
 },
 "nbformat": 4,
 "nbformat_minor": 2
}

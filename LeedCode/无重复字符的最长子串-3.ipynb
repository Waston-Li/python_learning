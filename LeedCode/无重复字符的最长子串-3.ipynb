{
 "cells": [
  {
   "cell_type": "markdown",
   "metadata": {},
   "source": [
    "# 给定一个字符串，请你找出其中不含有重复字符的 最长子串 的长度。"
   ]
  },
  {
   "cell_type": "markdown",
   "metadata": {},
   "source": [
    "\n",
    "示例 1:\n",
    "输入: \"abcabcbb\"\n",
    "输出: 3 \n",
    "解释: 因为无重复字符的最长子串是 \"abc\"，所以其长度为 3。\n",
    "示例 2:\n",
    "\n",
    "输入: \"bbbbb\"\n",
    "输出: 1\n",
    "解释: 因为无重复字符的最长子串是 \"b\"，所以其长度为 1。\n",
    "示例 3:\n",
    "\n",
    "输入: \"pwwkew\"\n",
    "输出: 3\n",
    "解释: 因为无重复字符的最长子串是 \"wke\"，所以其长度为 3。\n",
    "     请注意，你的答案必须是 子串 的长度，\"pwke\" 是一个子序列，不是子串。\n",
    "\n",
    "链接：https://leetcode-cn.com/problems/longest-substring-without-repeating-characters\n"
   ]
  },
  {
   "cell_type": "markdown",
   "metadata": {},
   "source": [
    "方法一：\"滑动窗口\"\n",
    "思路和算法\n",
    "\n",
    "我们先用一个例子来想一想如何在较优的时间复杂度内通过本题。\n",
    "\n",
    "我们不妨以示例一中的字符串abcabcbb 为例，找出 从每一个字符开始的，不包含重复字符的最长子串，那么其中最长的那个字符串即为答案。\n",
    "对于示例一中的字符串，我们列举出这些结果，其中括号中表示选中的字符以及最长的字符串：\n",
    "以 (a)bcabcbb 开始的最长字符串为 (abc)abcbb；\n",
    "以 a(b)cabcbb 开始的最长字符串为 a(bca)bcbb；\n",
    "以 ab(c)abcbb 开始的最长字符串为 ab(cab)cbb；\n",
    "以 abc(a)bcbb 开始的最长字符串为 abc(abc)bb；\n",
    "以 abca(b)cbb 开始的最长字符串为 abca(bc)bb；\n",
    "以 abcab(c)bb 开始的最长字符串为 abcab(cb)b；\n",
    "以 abcabc(b)b 开始的最长字符串为 abcabc(b)b；\n",
    "以 abcabcb(b) 开始的最长字符串为 abcabcb(b)。\n",
    "\n",
    "发现了什么？如果我们依次递增地枚举子串的起始位置，那么子串的结束位置也是递增的！这里的原因在于，假设我们选择字符串中的第 k 个字符作为起始位置，并且得到了不包含重复字符的最长子串的结束位置为 rk\n",
    "那么当我们选择第 k+1 个字符作为起始位置时，首先从 k+1 到rk\n",
    "的字符显然是不重复的，并且由于少了原本的第 k个字符，我们可以尝试继续增大 rk\n",
    "直到右侧出现了重复字符为止。\n",
    "这样以来，我们就可以使用「滑动窗口」来解决这个问题了：  (队列的思想)\n",
    "\n",
    "我们使用两个指针表示字符串中的某个子串（的左右边界）。其中左指针代表着上文中「枚举子串的起始位置」，而右指针即为上文中的rk\n",
    "在每一步的操作中，我们会将左指针向右移动一格，表示 我们开始枚举下一个字符作为起始位置，然后我们可以不断地向右移动右指针，但需要保证这两个指针对应的子串中没有重复的字符。在移动结束后，这个子串就对应着 以左指针开始的，不包含重复字符的最长子串。我们记录下这个子串的长度；\n",
    "在枚举结束后，我们找到的最长的子串的长度即为答案。\n",
    "\n",
    "\n",
    "判断重复字符：\n",
    "在上面的流程中，我们还需要使用一种数据结构来判断 是否有重复的字符，常用的数据结构为哈希集合\n",
    "python中为set() :  \"set() 函数创建一个 无序不重复 元素集，可进行关系测试，删除重复数据，还可以计算交集、差集、并集等\"\n"
   ]
  },
  {
   "cell_type": "code",
   "execution_count": null,
   "metadata": {},
   "outputs": [],
   "source": [
    "class Solution:\n",
    "    def lengthOfLongestSubstring(self, s: str) -> int:\n",
    "        # 哈希集合，记录每个字符是否出现过\n",
    "        occ = set()\n",
    "        n = len(s)\n",
    "        # 右指针，初始值为 -1，相当于我们在字符串的左边界的左侧，还没有开始移动\n",
    "        rk, ans = -1, 0\n",
    "        for i in range(n):\n",
    "            if i != 0:\n",
    "                # 左指针向右移动一格，移除一个字符\n",
    "                occ.remove(s[i - 1])\n",
    "            while rk + 1 < n and s[rk + 1] not in occ:\n",
    "                # 不断地移动右指针\n",
    "                occ.add(s[rk + 1])\n",
    "                rk += 1\n",
    "            # 第 i 到 rk 个字符是一个极长的无重复字符子串\n",
    "            ans = max(ans, rk - i + 1)\n",
    "        return ans\n",
    "\n"
   ]
  }
 ],
 "metadata": {
  "kernelspec": {
   "display_name": "Python 3",
   "language": "python",
   "name": "python3"
  },
  "language_info": {
   "codemirror_mode": {
    "name": "ipython",
    "version": 3
   },
   "file_extension": ".py",
   "mimetype": "text/x-python",
   "name": "python",
   "nbconvert_exporter": "python",
   "pygments_lexer": "ipython3",
   "version": "3.7.7"
  }
 },
 "nbformat": 4,
 "nbformat_minor": 4
}
